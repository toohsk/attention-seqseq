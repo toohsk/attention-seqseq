{
 "cells": [
  {
   "cell_type": "code",
   "execution_count": 1,
   "metadata": {
    "collapsed": false
   },
   "outputs": [],
   "source": [
    "import MeCab\n",
    "m = MeCab.Tagger (\"-d /usr/local/lib/mecab/dic/mecab-ipadic-neologd\")"
   ]
  },
  {
   "cell_type": "code",
   "execution_count": 4,
   "metadata": {
    "collapsed": true
   },
   "outputs": [],
   "source": [
    "with open('./input.txt', 'r') as file:\n",
    "    lines = file.readlines()"
   ]
  },
  {
   "cell_type": "code",
   "execution_count": 19,
   "metadata": {
    "collapsed": false
   },
   "outputs": [
    {
     "name": "stdout",
     "output_type": "stream",
     "text": [
      "香川真司 に 久々 の チャンス が 訪れる か と 思わ れ て い た が 、 物事 が そう 簡単 に 運ぶ わけ で は なかっ た 。\n",
      "その 置か れ た 厳しい 現状 を 改めて 認識 さ せ られ た 。\n",
      "ブンデスリーガ 第 20節 、 ダルムシュタット 対 ドルトムント 。\n",
      "ドルトムント は 120分 の 激闘 の 末 、 PK戦 で ようやく 勝利 し た ドイツ杯 ヘルタ 戦 から 中2 日 で ダルムシュタット に 乗り込ん だ 。\n",
      "ダツムシュタット は 現在 、 最下位 。\n",
      "リーグ 前半 戦 の 対戦 で は 6 － 0 で 下し た 、 言っ て みれ ば \" お客さん \" だ 。\n",
      "週明け の 火曜日 に は チャンピオンズリーグ （ CL ） 決勝トーナメント 1回戦 ベンフィカ 戦 も 行なわ れる 。\n",
      "落とせ ない ノックアウト方式 の 2試合 に 挟ま れ た この ダルムシュタット 戦 は 、 普段 試合 に 出 て い ない 選手 にとって 大きな チャンス と 思わ れ て い た 。\n",
      "地元紙 で も 、 香川真司 を はじめ いつも の ベンチ メンバー が スタメン に 並ぶ と 予想 さ れ て い た 。\n",
      "ドルトムント の 調子 そのもの は 芳しい と は 言え ない 。\n",
      "前節 ライプツィヒ 戦 、 ドイツ杯 ヘルタ 戦 と 、 難しい 試合 で 2連勝 こそ し た ものの 、 その 前 は マインツ に 引き分け て いる 。\n",
      "昨年末 は CL を 含め て 4戦 連続 引き分け という 有様 だっ た 。\n",
      "トーマス・トゥヘル 監督 だけ で なく 、 クラブ 上層部 も 批判 に さらさ れる 日々 が 続く 。\n"
     ]
    }
   ],
   "source": [
    "all_lines = []\n",
    "for line in lines:\n",
    "    split_line = []\n",
    "    node = m.parseToNode(line.replace(\" \", \"\"))\n",
    "    while node:\n",
    "        split_line.append(node.surface)\n",
    "        node = node.next\n",
    "    print(' '.join(split_line[1:len(split_line)-1]))"
   ]
  },
  {
   "cell_type": "code",
   "execution_count": 18,
   "metadata": {
    "collapsed": false
   },
   "outputs": [
    {
     "data": {
      "text/plain": [
       "[]"
      ]
     },
     "execution_count": 18,
     "metadata": {},
     "output_type": "execute_result"
    }
   ],
   "source": [
    "all_lines"
   ]
  },
  {
   "cell_type": "code",
   "execution_count": null,
   "metadata": {
    "collapsed": true
   },
   "outputs": [],
   "source": []
  }
 ],
 "metadata": {
  "kernelspec": {
   "display_name": "Python [default]",
   "language": "python",
   "name": "python3"
  },
  "language_info": {
   "codemirror_mode": {
    "name": "ipython",
    "version": 3
   },
   "file_extension": ".py",
   "mimetype": "text/x-python",
   "name": "python",
   "nbconvert_exporter": "python",
   "pygments_lexer": "ipython3",
   "version": "3.5.2"
  }
 },
 "nbformat": 4,
 "nbformat_minor": 1
}
