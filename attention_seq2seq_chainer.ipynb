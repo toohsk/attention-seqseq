{
 "cells": [
  {
   "cell_type": "code",
   "execution_count": null,
   "metadata": {
    "collapsed": false
   },
   "outputs": [],
   "source": [
    "import numpy as np\n",
    "import chainer\n",
    "from chainer import cuda, Function, gradient_check, Variable, optimizers, serializers, utils\n",
    "from chainer import Link, Chain, ChainList\n",
    "import chainer.functions as F\n",
    "import chainer.links as L"
   ]
  },
  {
   "cell_type": "code",
   "execution_count": null,
   "metadata": {
    "collapsed": true
   },
   "outputs": [],
   "source": [
    "plain_vocab = {}\n",
    "EOS = '<eos>'\n",
    "entity_vocab = {}\n",
    "id2wb = {}"
   ]
  },
  {
   "cell_type": "code",
   "execution_count": null,
   "metadata": {
    "collapsed": true
   },
   "outputs": [],
   "source": [
    "plain_lines = open('./input.txt').read().split('\\n')"
   ]
  },
  {
   "cell_type": "code",
   "execution_count": null,
   "metadata": {
    "collapsed": false
   },
   "outputs": [],
   "source": [
    "print(plain_lines)\n",
    "for line in plain_lines:\n",
    "    lt = line.split()\n",
    "    for w in lt:\n",
    "        if w not in plain_vocab:\n",
    "            plain_vocab[w] = len(plain_vocab)"
   ]
  },
  {
   "cell_type": "code",
   "execution_count": null,
   "metadata": {
    "collapsed": true
   },
   "outputs": [],
   "source": [
    "plain_vocab[EOS] = len(plain_vocab)-1\n",
    "pv = len(plain_vocab)"
   ]
  },
  {
   "cell_type": "code",
   "execution_count": null,
   "metadata": {
    "collapsed": true
   },
   "outputs": [],
   "source": [
    "entity_lines = open('./output.txt').read().split('\\n')"
   ]
  },
  {
   "cell_type": "code",
   "execution_count": null,
   "metadata": {
    "collapsed": true
   },
   "outputs": [],
   "source": [
    "for line in entity_lines:\n",
    "    lt = line.split()\n",
    "    for w in lt:\n",
    "        if w not in entity_vocab:\n",
    "            id = len(entity_vocab)\n",
    "            entity_vocab[w] = id\n",
    "            id2wb[id] = w"
   ]
  },
  {
   "cell_type": "code",
   "execution_count": null,
   "metadata": {
    "collapsed": true
   },
   "outputs": [],
   "source": [
    "id = len(entity_vocab)\n",
    "entity_vocab[EOS] = id-1\n",
    "id2wb[id-1] = EOS\n",
    "ev = len(entity_vocab)"
   ]
  },
  {
   "cell_type": "code",
   "execution_count": null,
   "metadata": {
    "collapsed": true
   },
   "outputs": [],
   "source": [
    "def mk_ct(gh, ht):\n",
    "    alp = []\n",
    "    s = 0.0\n",
    "    for i in range(len(gh)):\n",
    "        s += np.exp(ht.dot(gh[i]))\n",
    "    ct = np.zeros(100)\n",
    "    for i in range(len(gh)):\n",
    "        alpi = np.exp(ht.dot(gh[i]))/s\n",
    "        ct += alpi * gh[i]\n",
    "    ct = Variable(np.array([ct]).astype(np.float32))\n",
    "    return ct"
   ]
  },
  {
   "cell_type": "code",
   "execution_count": null,
   "metadata": {
    "collapsed": true
   },
   "outputs": [],
   "source": [
    "class ATT(chainer.Chain):\n",
    "    def __init__(self, pv, ev, k):\n",
    "        super(ATT, self).__init__(\n",
    "            embedx = L.EmbedID(pv, k),\n",
    "            embedy = L.EmbedID(ev, k),\n",
    "            H = L.LSTM(k, k),\n",
    "            Wc1 = L.Linear(k, k),\n",
    "            Wc2 = L.Linear(k, k),\n",
    "            W = L.Linear(k, ev),\n",
    "        )\n",
    "        \n",
    "    def __call__(self, pline, eline):\n",
    "        gh = []\n",
    "        for i in range(len(pline)):\n",
    "            wid = plain_vocab[pline[i]]\n",
    "            x_k = self.embedx(Variable(np.array([wid], dtype=np.int32)))\n",
    "            h = self.H(x_k)\n",
    "            gh.append(np.copy(h.data[0]))\n",
    "            \n",
    "        x_k = self.embedx(Variable(np.array([plain_vocab[EOS]], dtype=np.int32)))\n",
    "        tx = Variable(np.array([entity_vocab[eline[0]]], dtype=np.int32))\n",
    "        h = self.H(x_k)\n",
    "        ct = mk_ct(gh, h.data[0])\n",
    "        h2 = F.tanh(self.Wc1(ct) + self.Wc2(h))\n",
    "        accum_loss = F.softmax_cross_entropy(self.W(h2), tx)\n",
    "        \n",
    "        for i in range(len(eline)):\n",
    "            wid = entity_vocab[eline[i]]\n",
    "            x_k = self.embedy(Variable(np.array([wid], dtype=np.int32)))\n",
    "            next_wid = entity_vocab[EOS] if ( i == len(eline) - 1) else entity_vocab[eline[i+1]]\n",
    "            tx = Variable(np.array([next_wid], dtype=np.int32))\n",
    "            h = self.H(x_k)\n",
    "            ct = mk_ct(gh, h.data)\n",
    "            h2 = F.tanh(self.Wc1(ct) + self.Wc2(h))\n",
    "            loss = F.softmax_cross_entropy(self.W(h2), tx)\n",
    "            accum_loss += loss\n",
    "            \n",
    "        return accum_loss\n",
    "    \n",
    "    def reset_state(self):\n",
    "        self.H.reset_state()\n"
   ]
  },
  {
   "cell_type": "code",
   "execution_count": null,
   "metadata": {
    "collapsed": false
   },
   "outputs": [],
   "source": [
    "demb = 100\n",
    "model = ATT(pv, ev, demb)\n",
    "optimizer = optimizers.Adam()\n",
    "optimizer.setup(model)\n",
    "\n",
    "sum_loss = 0\n",
    "\n",
    "for epoch in range(100):\n",
    "    for i in range(len(plain_lines)-1):\n",
    "        \n",
    "        pln = plain_lines[i].split()\n",
    "        plnr = pln[::-1]\n",
    "        eln = entity_lines[i].split()\n",
    "        model.reset_state()\n",
    "        model.zerograds()\n",
    "        loss = model(plnr, eln)\n",
    "        sum_loss += loss.data\n",
    "        loss.backward()\n",
    "        loss.unchain_backward()\n",
    "        optimizer.update()\n",
    "        print(i, \" finished\")\n",
    "        print(\"train loss:\", sum_loss)\n",
    "    \n",
    "    outfile = \"attention-\"+str(epoch)+\".model\"\n",
    "    serializers.save_npz(outfile, model)"
   ]
  },
  {
   "cell_type": "code",
   "execution_count": null,
   "metadata": {
    "collapsed": true
   },
   "outputs": [],
   "source": []
  }
 ],
 "metadata": {
  "kernelspec": {
   "display_name": "Python 3",
   "language": "python",
   "name": "python3"
  },
  "language_info": {
   "codemirror_mode": {
    "name": "ipython",
    "version": 3
   },
   "file_extension": ".py",
   "mimetype": "text/x-python",
   "name": "python",
   "nbconvert_exporter": "python",
   "pygments_lexer": "ipython3",
   "version": "3.5.1"
  }
 },
 "nbformat": 4,
 "nbformat_minor": 1
}
