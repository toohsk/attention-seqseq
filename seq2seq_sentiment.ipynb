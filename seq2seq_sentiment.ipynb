{
 "cells": [
  {
   "cell_type": "code",
   "execution_count": null,
   "metadata": {
    "collapsed": false
   },
   "outputs": [],
   "source": [
    "from keras.models import Sequential\n",
    "from keras.engine.training import slice_X\n",
    "from keras.layers import Activation, TimeDistributed, Dense, RepeatVector, Embedding, LSTM\n",
    "from keras.preprocessing.text import text_to_word_sequence, one_hot\n",
    "from keras.preprocessing import sequence\n",
    "\n",
    "import random\n",
    "from six.moves import range\n",
    "import numpy as np\n",
    "from gensim import corpora"
   ]
  },
  {
   "cell_type": "code",
   "execution_count": null,
   "metadata": {
    "collapsed": false
   },
   "outputs": [],
   "source": [
    "def get_lines(file_path):\n",
    "    with open(file_path, 'r') as f:\n",
    "        lines = f.readlines()\n",
    "    return lines    \n",
    "        "
   ]
  },
  {
   "cell_type": "code",
   "execution_count": null,
   "metadata": {
    "collapsed": true
   },
   "outputs": [],
   "source": [
    "amazon_cells_labelled_file = './data/sentiment labelled sentences/amazon_cells_labelled.txt'\n",
    "yelp_labelled_file = './data/sentiment labelled sentences/yelp_labelled.txt'\n",
    "imdb_labelled_file = './data/sentiment labelled sentences/imdb_labelled.txt'\n",
    "lines = get_lines(imdb_labelled_file)"
   ]
  },
  {
   "cell_type": "code",
   "execution_count": null,
   "metadata": {
    "collapsed": true
   },
   "outputs": [],
   "source": [
    "def cleaning(lines):\n",
    "    \n",
    "    positive_lines = []\n",
    "    negative_lines = []\n",
    "    max_token_size = -1\n",
    "    \n",
    "    for line in lines:\n",
    "        elements = line.split('\\t')\n",
    "        # print(elements[0]) # Comment element.\n",
    "        # print(elements[1]) # Sentiment element. 0 = Negative, 1 = Positive\n",
    "        sentiment = int(elements[1]) \n",
    "        comment = elements[0] \n",
    "        tokens = [token.lower().strip(',.') for token in comment.split(' ')]\n",
    "\n",
    "        # Updating most longest token size in dataset\n",
    "        if len(tokens) > max_token_size:\n",
    "            max_token_size = len(tokens)\n",
    "        \n",
    "        if sentiment == 1:\n",
    "            positive_lines.append(tokens)\n",
    "        elif sentiment == 0:\n",
    "            negative_lines.append(tokens)\n",
    "        else:\n",
    "            print('Sentiment is not 0 or 1.')\n",
    "            \n",
    "    return positive_lines, negative_lines, max_token_size"
   ]
  },
  {
   "cell_type": "code",
   "execution_count": null,
   "metadata": {
    "collapsed": false
   },
   "outputs": [],
   "source": [
    "positive_lines, negative_lines, input_length = cleaning(lines)\n",
    "print(input_length)"
   ]
  },
  {
   "cell_type": "code",
   "execution_count": null,
   "metadata": {
    "collapsed": false
   },
   "outputs": [],
   "source": [
    "dictionary = corpora.Dictionary(positive_lines)\n",
    "dictionary.add_documents(negative_lines)\n",
    "\n",
    "PADDING_WORD=\"<PADDING>\"\n",
    "dictionary.add_documents([[PADDING_WORD]])\n"
   ]
  },
  {
   "cell_type": "code",
   "execution_count": null,
   "metadata": {
    "collapsed": false
   },
   "outputs": [],
   "source": [
    "n_token = len(dictionary.token2id)\n",
    "padding_id = dictionary.token2id[PADDING_WORD]\n",
    "batch_size = 32\n",
    "nb_epoch = 30\n",
    "\n",
    "print(n_token)\n",
    "print(len(dictionary.token2id))"
   ]
  },
  {
   "cell_type": "code",
   "execution_count": null,
   "metadata": {
    "collapsed": false
   },
   "outputs": [],
   "source": [
    "def convert2id(doc, dictionary):\n",
    "    ids_doc = []\n",
    "    for line in doc:\n",
    "        ids = []\n",
    "        for token in line:\n",
    "            ids.append(dictionary[token])\n",
    "        ids_doc.append(ids)\n",
    "    \n",
    "    return ids_doc"
   ]
  },
  {
   "cell_type": "code",
   "execution_count": null,
   "metadata": {
    "collapsed": false
   },
   "outputs": [],
   "source": [
    "positive_lines_ids = convert2id(positive_lines, dictionary.token2id)"
   ]
  },
  {
   "cell_type": "code",
   "execution_count": null,
   "metadata": {
    "collapsed": false
   },
   "outputs": [],
   "source": [
    "negative_lines_ids = convert2id(negative_lines, dictionary.token2id)"
   ]
  },
  {
   "cell_type": "code",
   "execution_count": null,
   "metadata": {
    "collapsed": false
   },
   "outputs": [],
   "source": [
    "# pad each sentece by padding_word to set each setence to same dimension.\n",
    "positive_lines_ids = sequence.pad_sequences(positive_lines_ids, maxlen=input_length, padding='post', value=padding_id)\n",
    "negative_lines_ids = sequence.pad_sequences(negative_lines_ids, maxlen=input_length, padding='post', value=padding_id)"
   ]
  },
  {
   "cell_type": "code",
   "execution_count": null,
   "metadata": {
    "collapsed": false
   },
   "outputs": [],
   "source": [
    "random.seed(42)\n",
    "\n",
    "def random_sampling(positive_lines_ids, negative_lines_ids, reverse=False, sampling_rate=0.75):\n",
    "    \n",
    "    sampled_idxs = random.sample(range(len(positive_lines_ids)), int(len(positive_lines_ids)*sampling_rate))\n",
    "    rest_idxs = list(set(range(len(positive_lines_ids))) - set(sampled_idxs))\n",
    "\n",
    "    X_train = []\n",
    "    y_train = []\n",
    "    X_test = []\n",
    "    y_test = []\n",
    "                 \n",
    "    for idx in sampled_idxs:\n",
    "        if reverse:\n",
    "            X_train.append(positive_lines_ids[idx][::-1])\n",
    "            X_train.append(negative_lines_ids[idx][::-1])\n",
    "        else:\n",
    "            X_train.append(positive_lines_ids[idx])\n",
    "            X_train.append(negative_lines_ids[idx])\n",
    "        y_train.append(1)\n",
    "        y_train.append(0)\n",
    "\n",
    "    for idx in rest_idxs:\n",
    "        if reverse:\n",
    "            X_test.append(positive_lines_ids[idx][::-1])\n",
    "            X_test.append(negative_lines_ids[idx][::-1])\n",
    "        else:\n",
    "            X_test.append(positive_lines_ids[idx])\n",
    "            X_test.append(negative_lines_ids[idx])\n",
    "        y_test.append(1)\n",
    "        y_test.append(0)\n",
    "\n",
    "    X_train = np.array(X_train)\n",
    "    y_train = np.array(y_train)\n",
    "    X_test = np.array(X_test)\n",
    "    y_test = np.array(y_test)\n",
    "    \n",
    "    return X_train, y_train, X_test, y_test"
   ]
  },
  {
   "cell_type": "code",
   "execution_count": null,
   "metadata": {
    "collapsed": false
   },
   "outputs": [],
   "source": [
    "\n",
    "X_train, y_train, X_test, y_test = random_sampling(positive_lines_ids, negative_lines_ids)"
   ]
  },
  {
   "cell_type": "code",
   "execution_count": null,
   "metadata": {
    "collapsed": false
   },
   "outputs": [],
   "source": [
    "print('Build model...')\n",
    "model = Sequential()\n",
    "model.add(Embedding(n_token, 100, dropout=0.2))\n",
    "model.add(LSTM(100, dropout_W=0.2, dropout_U=0.2))  # try using a GRU instead, for fun\n",
    "model.add(Dense(1))\n",
    "model.add(Activation('sigmoid'))\n",
    "\n",
    "model.compile(loss='binary_crossentropy',\n",
    "              optimizer='adam',\n",
    "              metrics=['accuracy'])"
   ]
  },
  {
   "cell_type": "code",
   "execution_count": null,
   "metadata": {
    "collapsed": false,
    "scrolled": false
   },
   "outputs": [],
   "source": [
    "print('Train...')\n",
    "\n",
    "model.fit(X_train, y_train, batch_size=batch_size, nb_epoch=nb_epoch,\n",
    "          validation_data=(X_test, y_test))\n",
    "\n",
    "score, acc = model.evaluate(X_test, y_test,\n",
    "                            batch_size=batch_size)\n",
    "print('Test score:', score)\n",
    "print('Test accuracy:', acc)"
   ]
  },
  {
   "cell_type": "code",
   "execution_count": null,
   "metadata": {
    "collapsed": true
   },
   "outputs": [],
   "source": [
    "X_train, y_train, X_test, y_test = random_sampling(positive_lines_ids, negative_lines_ids, reverse=True)"
   ]
  },
  {
   "cell_type": "code",
   "execution_count": null,
   "metadata": {
    "collapsed": false
   },
   "outputs": [],
   "source": [
    "print('Build model...')\n",
    "model = Sequential()\n",
    "model.add(Embedding(n_token, 100, dropout=0.2))\n",
    "model.add(LSTM(100, dropout_W=0.2, dropout_U=0.2))  # try using a GRU instead, for fun\n",
    "model.add(Dense(1))\n",
    "model.add(Activation('sigmoid'))\n",
    "\n",
    "model.compile(loss='binary_crossentropy',\n",
    "              optimizer='adam',\n",
    "              metrics=['accuracy'])"
   ]
  },
  {
   "cell_type": "code",
   "execution_count": null,
   "metadata": {
    "collapsed": false
   },
   "outputs": [],
   "source": [
    "print('Train...')\n",
    "\n",
    "model.fit(X_train, y_train, batch_size=batch_size, nb_epoch=nb_epoch,\n",
    "          validation_data=(X_test, y_test))\n",
    "\n",
    "score, acc = model.evaluate(X_test, y_test,\n",
    "                            batch_size=batch_size)\n",
    "print('Test score:', score)\n",
    "print('Test accuracy:', acc)"
   ]
  }
 ],
 "metadata": {
  "kernelspec": {
   "display_name": "Python 3",
   "language": "python",
   "name": "python3"
  },
  "language_info": {
   "codemirror_mode": {
    "name": "ipython",
    "version": 3
   },
   "file_extension": ".py",
   "mimetype": "text/x-python",
   "name": "python",
   "nbconvert_exporter": "python",
   "pygments_lexer": "ipython3",
   "version": "3.5.1"
  }
 },
 "nbformat": 4,
 "nbformat_minor": 0
}
